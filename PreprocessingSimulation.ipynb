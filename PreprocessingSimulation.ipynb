{
 "cells": [
  {
   "cell_type": "code",
   "execution_count": 278,
   "metadata": {
    "collapsed": true
   },
   "outputs": [],
   "source": [
    "import numpy as np\n",
    "from music21 import converter, note, duration\n",
    "import pandas as pd\n",
    "\n",
    "# Custom Midi note object\n",
    "from midi_note import MIDINote\n",
    "\n",
    "#utility\n",
    "import random\n",
    "import copy\n",
    "from bidict import bidict"
   ]
  },
  {
   "cell_type": "code",
   "execution_count": 2,
   "outputs": [],
   "source": [
    "PATH = \"POP909\""
   ],
   "metadata": {
    "collapsed": false,
    "pycharm": {
     "name": "#%%\n"
    }
   }
  },
  {
   "cell_type": "code",
   "execution_count": 3,
   "outputs": [],
   "source": [
    "def parse_raw_notes(file):\n",
    "    print(\"Loading Music File:\", file)\n",
    "    midi_data = converter.parse(file)\n",
    "\n",
    "    raw_notes = []\n",
    "    for part in midi_data.parts:\n",
    "        if part.partName == 'MELODY':\n",
    "            midi_elements = part.recurse()\n",
    "            for element in midi_elements:\n",
    "                if isinstance(element, note.Note):\n",
    "                    note_duration = duration.Duration()\n",
    "                    note_duration.quarterLength = element.quarterLength\n",
    "                    raw_note = str(element.pitch)\n",
    "                    raw_notes.append(MIDINote(raw_note, str(note_duration.type), str(element.quarterLength)))\n",
    "\n",
    "    return np.array(raw_notes)"
   ],
   "metadata": {
    "collapsed": false,
    "pycharm": {
     "name": "#%%\n"
    }
   }
  },
  {
   "cell_type": "code",
   "execution_count": 4,
   "outputs": [],
   "source": [
    "# list of songs by key\n",
    "songs_by_key = dict()\n",
    "\n",
    "songs_by_key[\"Emin\"] = ['033', '034', '056', '071', '078', '116', '130', '240', '272', '276', '283', '317', '322',\n",
    "                        '380', '457', '458', '476', '501', '520', '560', '566', '578', '625', '653', '667', '680',\n",
    "                        '693', '740', '772', '788', '854', '899']\n",
    "songs_by_key[\"Dmin\"] = ['027', '040', '073', '103', '125', '141', '151', '158', '198', '226', '284', '295', '297',\n",
    "                        '344', '378', '384', '389', '446', '451', '587', '604', '610', '627', '682', '689', '791',\n",
    "                        '842', '845', '852', '859', '894']\n",
    "songs_by_key[\"Amaj\"] = ['058', '086', '102', '155', '174', '183', '208', '231', '291', '346', '353', '362', '410',\n",
    "                        '463', '475', '478', '497', '499', '615', '641', '687', '691', '721', '728', '751', '774',\n",
    "                        '810', '867', '891']\n",
    "songs_by_key[\"Cmaj\"] = ['038', '055', '068', '079', '131', '132', '136', '171', '172', '185', '203', '211', '216',\n",
    "                        '233', '243', '278', '293', '312', '319', '320', '326', '331', '368', '386', '432', '459',\n",
    "                        '493', '496', '548', '570', '591', '603', '612', '621', '702', '710', '714', '722', '735',\n",
    "                        '761', '793', '824', '833', '873', '888', '892', '909']"
   ],
   "metadata": {
    "collapsed": false,
    "pycharm": {
     "name": "#%%\n"
    }
   }
  },
  {
   "cell_type": "code",
   "execution_count": 5,
   "outputs": [],
   "source": [
    "sample_limit = 4\n",
    "all_song_ids = []\n",
    "\n",
    "for key, song_ids in songs_by_key.items():\n",
    "    # all_song_ids += random.sample(song_ids, sample_limit)\n",
    "    all_song_ids += songs_by_key[key][:sample_limit]"
   ],
   "metadata": {
    "collapsed": false,
    "pycharm": {
     "name": "#%%\n"
    }
   }
  },
  {
   "cell_type": "code",
   "execution_count": 6,
   "outputs": [],
   "source": [
    "def parse_raw_notes(file_path):\n",
    "    print(\"Loading Music File:\", file_path)\n",
    "    raw_notes = []\n",
    "    midi_data = converter.parse(file_path)\n",
    "    for part in midi_data.parts:\n",
    "        if part.partName == 'MELODY':\n",
    "            midi_elements = part.recurse()\n",
    "            for element in midi_elements:\n",
    "                if isinstance(element, note.Note):\n",
    "                    note_duration = duration.Duration()\n",
    "                    note_duration.quarterLength = element.quarterLength\n",
    "                    raw_note = str(element.pitch)\n",
    "                    raw_notes.append(MIDINote(raw_note, str(note_duration.type), str(element.quarterLength)).as_map)\n",
    "\n",
    "    return raw_notes"
   ],
   "metadata": {
    "collapsed": false,
    "pycharm": {
     "name": "#%%\n"
    }
   }
  },
  {
   "cell_type": "code",
   "execution_count": 7,
   "outputs": [
    {
     "name": "stdout",
     "output_type": "stream",
     "text": [
      "Loading Music File: POP909/033/033.mid\n",
      "Loading Music File: POP909/034/034.mid\n",
      "Loading Music File: POP909/056/056.mid\n",
      "Loading Music File: POP909/071/071.mid\n",
      "Loading Music File: POP909/027/027.mid\n",
      "Loading Music File: POP909/040/040.mid\n",
      "Loading Music File: POP909/073/073.mid\n",
      "Loading Music File: POP909/103/103.mid\n",
      "Loading Music File: POP909/058/058.mid\n",
      "Loading Music File: POP909/086/086.mid\n",
      "Loading Music File: POP909/102/102.mid\n",
      "Loading Music File: POP909/155/155.mid\n",
      "Loading Music File: POP909/038/038.mid\n",
      "Loading Music File: POP909/055/055.mid\n",
      "Loading Music File: POP909/068/068.mid\n",
      "Loading Music File: POP909/079/079.mid\n"
     ]
    }
   ],
   "source": [
    "parsed_midi_notes = []\n",
    "for song_id in all_song_ids:\n",
    "    song_path = f\"{PATH}/{song_id}/{song_id}.mid\"\n",
    "    parsed_raw_notes = parse_raw_notes(song_path)\n",
    "    parsed_midi_notes.append(parsed_raw_notes)"
   ],
   "metadata": {
    "collapsed": false,
    "pycharm": {
     "name": "#%%\n"
    }
   }
  },
  {
   "cell_type": "code",
   "execution_count": 8,
   "outputs": [],
   "source": [
    "# parsed_midi_notes\n",
    "\n",
    "def get_random_song(song_list):\n",
    "    rand_song_id = random.randint(0, len(song_list) - 1)\n",
    "    rand_song = song_list[rand_song_id]\n",
    "    return rand_song, rand_song_id"
   ],
   "metadata": {
    "collapsed": false,
    "pycharm": {
     "name": "#%%\n"
    }
   }
  },
  {
   "cell_type": "code",
   "execution_count": 48,
   "outputs": [
    {
     "name": "stdout",
     "output_type": "stream",
     "text": [
      "Randomly selected song id: 14\n"
     ]
    },
    {
     "data": {
      "text/plain": "  note duration_type length\n0   G4        eighth    1/3\n1   E4          16th   0.25\n2   C5          16th   0.25\n3   B4        eighth    1/3\n4   B4       quarter    1.0\n5   B4        eighth   5/12\n6   G4        eighth    1/3\n7   E4        eighth    1/3\n8   E4       quarter    1.0\n9   E4       quarter    1.0",
      "text/html": "<div>\n<style scoped>\n    .dataframe tbody tr th:only-of-type {\n        vertical-align: middle;\n    }\n\n    .dataframe tbody tr th {\n        vertical-align: top;\n    }\n\n    .dataframe thead th {\n        text-align: right;\n    }\n</style>\n<table border=\"1\" class=\"dataframe\">\n  <thead>\n    <tr style=\"text-align: right;\">\n      <th></th>\n      <th>note</th>\n      <th>duration_type</th>\n      <th>length</th>\n    </tr>\n  </thead>\n  <tbody>\n    <tr>\n      <th>0</th>\n      <td>G4</td>\n      <td>eighth</td>\n      <td>1/3</td>\n    </tr>\n    <tr>\n      <th>1</th>\n      <td>E4</td>\n      <td>16th</td>\n      <td>0.25</td>\n    </tr>\n    <tr>\n      <th>2</th>\n      <td>C5</td>\n      <td>16th</td>\n      <td>0.25</td>\n    </tr>\n    <tr>\n      <th>3</th>\n      <td>B4</td>\n      <td>eighth</td>\n      <td>1/3</td>\n    </tr>\n    <tr>\n      <th>4</th>\n      <td>B4</td>\n      <td>quarter</td>\n      <td>1.0</td>\n    </tr>\n    <tr>\n      <th>5</th>\n      <td>B4</td>\n      <td>eighth</td>\n      <td>5/12</td>\n    </tr>\n    <tr>\n      <th>6</th>\n      <td>G4</td>\n      <td>eighth</td>\n      <td>1/3</td>\n    </tr>\n    <tr>\n      <th>7</th>\n      <td>E4</td>\n      <td>eighth</td>\n      <td>1/3</td>\n    </tr>\n    <tr>\n      <th>8</th>\n      <td>E4</td>\n      <td>quarter</td>\n      <td>1.0</td>\n    </tr>\n    <tr>\n      <th>9</th>\n      <td>E4</td>\n      <td>quarter</td>\n      <td>1.0</td>\n    </tr>\n  </tbody>\n</table>\n</div>"
     },
     "execution_count": 48,
     "metadata": {},
     "output_type": "execute_result"
    }
   ],
   "source": [
    "# get a view of what a song with parsed midi notes look like\n",
    "random_song, random_song_id = get_random_song(parsed_midi_notes)\n",
    "data_frame = pd.DataFrame(random_song)\n",
    "print(\"Randomly selected song id:\", random_song_id)\n",
    "data_frame.head(10)"
   ],
   "metadata": {
    "collapsed": false,
    "pycharm": {
     "name": "#%%\n"
    }
   }
  },
  {
   "cell_type": "code",
   "execution_count": 79,
   "outputs": [
    {
     "name": "stdout",
     "output_type": "stream",
     "text": [
      "Randomly selected song id: 13\n"
     ]
    },
    {
     "data": {
      "text/plain": "    note duration_type length\n386  E-5        eighth    1/3\n387  E-5       quarter    2/3",
      "text/html": "<div>\n<style scoped>\n    .dataframe tbody tr th:only-of-type {\n        vertical-align: middle;\n    }\n\n    .dataframe tbody tr th {\n        vertical-align: top;\n    }\n\n    .dataframe thead th {\n        text-align: right;\n    }\n</style>\n<table border=\"1\" class=\"dataframe\">\n  <thead>\n    <tr style=\"text-align: right;\">\n      <th></th>\n      <th>note</th>\n      <th>duration_type</th>\n      <th>length</th>\n    </tr>\n  </thead>\n  <tbody>\n    <tr>\n      <th>386</th>\n      <td>E-5</td>\n      <td>eighth</td>\n      <td>1/3</td>\n    </tr>\n    <tr>\n      <th>387</th>\n      <td>E-5</td>\n      <td>quarter</td>\n      <td>2/3</td>\n    </tr>\n  </tbody>\n</table>\n</div>"
     },
     "execution_count": 79,
     "metadata": {},
     "output_type": "execute_result"
    }
   ],
   "source": [
    "# show flat notes\n",
    "# if default set id = 13, 5\n",
    "random_song, random_song_id = get_random_song(parsed_midi_notes)\n",
    "data_frame = pd.DataFrame(random_song)\n",
    "\n",
    "flats = data_frame[data_frame[\"note\"].str.contains(\"-\")]\n",
    "print(\"Randomly selected song id:\", random_song_id)\n",
    "flats.head(10)"
   ],
   "metadata": {
    "collapsed": false,
    "pycharm": {
     "name": "#%%\n"
    }
   }
  },
  {
   "cell_type": "code",
   "execution_count": 128,
   "outputs": [],
   "source": [
    "# initial preprocessing\n",
    "# map flats to equivalent sharps\n",
    "flats_map = {\n",
    "    'D-': 'C#',\n",
    "    'E-': 'D#',\n",
    "    'G-': 'F#',\n",
    "    'A-': 'G#',\n",
    "    'B-': 'A#'\n",
    "}\n",
    "\n",
    "\n",
    "def map_flat(song):\n",
    "    for song_note in song:\n",
    "        if \"-\" in song_note[\"note\"]:\n",
    "            flat_note = song_note[\"note\"][:2]\n",
    "            song_note[\"note\"] = song_note[\"note\"].replace(flat_note, flats_map[flat_note])\n",
    "\n",
    "\n",
    "def initial_preprocess(songs):\n",
    "    for song in songs:\n",
    "        map_flat(song)\n",
    "    return songs\n",
    "\n",
    "\n",
    "initial_preprocessed_notes = initial_preprocess(copy.deepcopy(parsed_midi_notes))"
   ],
   "metadata": {
    "collapsed": false,
    "pycharm": {
     "name": "#%%\n"
    }
   }
  },
  {
   "cell_type": "code",
   "execution_count": 165,
   "outputs": [
    {
     "name": "stdout",
     "output_type": "stream",
     "text": [
      "Randomly selected song id: 3\n"
     ]
    },
    {
     "data": {
      "text/plain": "Empty DataFrame\nColumns: [note, duration_type, length]\nIndex: []",
      "text/html": "<div>\n<style scoped>\n    .dataframe tbody tr th:only-of-type {\n        vertical-align: middle;\n    }\n\n    .dataframe tbody tr th {\n        vertical-align: top;\n    }\n\n    .dataframe thead th {\n        text-align: right;\n    }\n</style>\n<table border=\"1\" class=\"dataframe\">\n  <thead>\n    <tr style=\"text-align: right;\">\n      <th></th>\n      <th>note</th>\n      <th>duration_type</th>\n      <th>length</th>\n    </tr>\n  </thead>\n  <tbody>\n  </tbody>\n</table>\n</div>"
     },
     "execution_count": 165,
     "metadata": {},
     "output_type": "execute_result"
    }
   ],
   "source": [
    "random_song, random_song_id = get_random_song(initial_preprocessed_notes)\n",
    "print(\"Randomly selected song id:\", random_song_id)\n",
    "# show if flats still exists\n",
    "flats = data_frame[data_frame[\"note\"].str.contains(\"-\")]\n",
    "flats.head(10)"
   ],
   "metadata": {
    "collapsed": false,
    "pycharm": {
     "name": "#%%\n"
    }
   }
  },
  {
   "cell_type": "code",
   "execution_count": 221,
   "outputs": [
    {
     "name": "stdout",
     "output_type": "stream",
     "text": [
      "Randomly selected song id: 9\n"
     ]
    },
    {
     "data": {
      "text/plain": "Empty DataFrame\nColumns: [note, duration_type, length]\nIndex: []",
      "text/html": "<div>\n<style scoped>\n    .dataframe tbody tr th:only-of-type {\n        vertical-align: middle;\n    }\n\n    .dataframe tbody tr th {\n        vertical-align: top;\n    }\n\n    .dataframe thead th {\n        text-align: right;\n    }\n</style>\n<table border=\"1\" class=\"dataframe\">\n  <thead>\n    <tr style=\"text-align: right;\">\n      <th></th>\n      <th>note</th>\n      <th>duration_type</th>\n      <th>length</th>\n    </tr>\n  </thead>\n  <tbody>\n  </tbody>\n</table>\n</div>"
     },
     "execution_count": 221,
     "metadata": {},
     "output_type": "execute_result"
    }
   ],
   "source": [
    "random_song, random_song_id = get_random_song(initial_preprocessed_notes)\n",
    "data_frame = pd.DataFrame(random_song)\n",
    "# show complex notes\n",
    "flats = data_frame[data_frame[\"duration_type\"] == \"complex\"]\n",
    "print(\"Randomly selected song id:\", random_song_id)\n",
    "flats.head(10)"
   ],
   "metadata": {
    "collapsed": false,
    "pycharm": {
     "name": "#%%\n"
    }
   }
  },
  {
   "cell_type": "code",
   "execution_count": 239,
   "outputs": [
    {
     "name": "stdout",
     "output_type": "stream",
     "text": [
      "Randomly selected song id: 10\n"
     ]
    },
    {
     "data": {
      "text/plain": "   note duration_type length\n1   C#5          32nd   1/12\n3    E5          32nd   1/12\n5   F#5          32nd   1/12\n7    A4          32nd   1/12\n9   G#4          32nd   1/12\n16  F#4          32nd   1/12\n31   E5          32nd   1/12\n33  F#5          32nd   1/12\n48   B4          32nd   1/12\n53  F#4          32nd   1/12",
      "text/html": "<div>\n<style scoped>\n    .dataframe tbody tr th:only-of-type {\n        vertical-align: middle;\n    }\n\n    .dataframe tbody tr th {\n        vertical-align: top;\n    }\n\n    .dataframe thead th {\n        text-align: right;\n    }\n</style>\n<table border=\"1\" class=\"dataframe\">\n  <thead>\n    <tr style=\"text-align: right;\">\n      <th></th>\n      <th>note</th>\n      <th>duration_type</th>\n      <th>length</th>\n    </tr>\n  </thead>\n  <tbody>\n    <tr>\n      <th>1</th>\n      <td>C#5</td>\n      <td>32nd</td>\n      <td>1/12</td>\n    </tr>\n    <tr>\n      <th>3</th>\n      <td>E5</td>\n      <td>32nd</td>\n      <td>1/12</td>\n    </tr>\n    <tr>\n      <th>5</th>\n      <td>F#5</td>\n      <td>32nd</td>\n      <td>1/12</td>\n    </tr>\n    <tr>\n      <th>7</th>\n      <td>A4</td>\n      <td>32nd</td>\n      <td>1/12</td>\n    </tr>\n    <tr>\n      <th>9</th>\n      <td>G#4</td>\n      <td>32nd</td>\n      <td>1/12</td>\n    </tr>\n    <tr>\n      <th>16</th>\n      <td>F#4</td>\n      <td>32nd</td>\n      <td>1/12</td>\n    </tr>\n    <tr>\n      <th>31</th>\n      <td>E5</td>\n      <td>32nd</td>\n      <td>1/12</td>\n    </tr>\n    <tr>\n      <th>33</th>\n      <td>F#5</td>\n      <td>32nd</td>\n      <td>1/12</td>\n    </tr>\n    <tr>\n      <th>48</th>\n      <td>B4</td>\n      <td>32nd</td>\n      <td>1/12</td>\n    </tr>\n    <tr>\n      <th>53</th>\n      <td>F#4</td>\n      <td>32nd</td>\n      <td>1/12</td>\n    </tr>\n  </tbody>\n</table>\n</div>"
     },
     "execution_count": 239,
     "metadata": {},
     "output_type": "execute_result"
    }
   ],
   "source": [
    "random_song, random_song_id = get_random_song(initial_preprocessed_notes)\n",
    "data_frame = pd.DataFrame(random_song)\n",
    "# show 32nd notes\n",
    "flats = data_frame[data_frame[\"duration_type\"] == \"32nd\"]\n",
    "print(\"Randomly selected song id:\", random_song_id)\n",
    "flats.head(10)"
   ],
   "metadata": {
    "collapsed": false,
    "pycharm": {
     "name": "#%%\n"
    }
   }
  },
  {
   "cell_type": "code",
   "execution_count": 240,
   "outputs": [],
   "source": [
    "duration_map = {\n",
    "    'whole': 4.0,\n",
    "    'half': 2.0,\n",
    "    'quarter': 1.0,\n",
    "    'eighth': 0.5,\n",
    "    '16th': 0.25,\n",
    "}"
   ],
   "metadata": {
    "collapsed": false,
    "pycharm": {
     "name": "#%%\n"
    }
   }
  },
  {
   "cell_type": "code",
   "execution_count": 241,
   "outputs": [],
   "source": [
    "def map_duration(song):\n",
    "    duration_type = song[\"duration_type\"]\n",
    "    if duration_type in duration_map:\n",
    "        song[\"length\"] = duration_map[duration_type]\n",
    "        return\n",
    "    # if note is 32nd then it is transformed in to 16th\n",
    "    if duration_type == \"32nd\":\n",
    "        song[\"duration_type\"] = \"16th\"\n",
    "        song[\"length\"] = 0.25\n",
    "\n",
    "    # if a note is complex then map it to its nearest non-complex note\n",
    "    if duration_type == \"complex\":\n",
    "        length = float(song[\"length\"])\n",
    "        if length <= 0.25:\n",
    "            song[\"duration_type\"] = \"16th\"\n",
    "            song[\"length\"] = \"0.25\"\n",
    "\n",
    "        minimum_duration = \"whole\"\n",
    "        distance = float('inf')\n",
    "        for duration_type, duration_length in duration_map.items():\n",
    "            if abs(duration_length - length) < distance:\n",
    "                distance = abs(duration_length - length)\n",
    "                minimum_duration = duration_type\n",
    "        song[\"duration_type\"] = minimum_duration\n",
    "        song[\"length\"] = duration_map[minimum_duration]\n",
    "\n",
    "\n",
    "def second_preprocess(songs):\n",
    "    for song in songs:\n",
    "        for song_note in song:\n",
    "            map_duration(song_note)\n",
    "    return songs\n",
    "\n",
    "\n",
    "second_preprocess_data = second_preprocess(copy.deepcopy(initial_preprocessed_notes))"
   ],
   "metadata": {
    "collapsed": false,
    "pycharm": {
     "name": "#%%\n"
    }
   }
  },
  {
   "cell_type": "code",
   "execution_count": 242,
   "outputs": [
    {
     "name": "stdout",
     "output_type": "stream",
     "text": [
      "Randomly selected song id: 14\n"
     ]
    },
    {
     "data": {
      "text/plain": "Empty DataFrame\nColumns: [note, duration_type, length]\nIndex: []",
      "text/html": "<div>\n<style scoped>\n    .dataframe tbody tr th:only-of-type {\n        vertical-align: middle;\n    }\n\n    .dataframe tbody tr th {\n        vertical-align: top;\n    }\n\n    .dataframe thead th {\n        text-align: right;\n    }\n</style>\n<table border=\"1\" class=\"dataframe\">\n  <thead>\n    <tr style=\"text-align: right;\">\n      <th></th>\n      <th>note</th>\n      <th>duration_type</th>\n      <th>length</th>\n    </tr>\n  </thead>\n  <tbody>\n  </tbody>\n</table>\n</div>"
     },
     "execution_count": 242,
     "metadata": {},
     "output_type": "execute_result"
    }
   ],
   "source": [
    "random_song, random_song_id = get_random_song(second_preprocess_data)\n",
    "data_frame = pd.DataFrame(random_song)\n",
    "# show complex notes\n",
    "flats = data_frame[data_frame[\"duration_type\"] == \"complex\"]\n",
    "print(\"Randomly selected song id:\", random_song_id)\n",
    "flats.head(10)"
   ],
   "metadata": {
    "collapsed": false,
    "pycharm": {
     "name": "#%%\n"
    }
   }
  },
  {
   "cell_type": "code",
   "execution_count": 244,
   "outputs": [
    {
     "name": "stdout",
     "output_type": "stream",
     "text": [
      "Randomly selected song id: 13\n"
     ]
    },
    {
     "data": {
      "text/plain": "Empty DataFrame\nColumns: [note, duration_type, length]\nIndex: []",
      "text/html": "<div>\n<style scoped>\n    .dataframe tbody tr th:only-of-type {\n        vertical-align: middle;\n    }\n\n    .dataframe tbody tr th {\n        vertical-align: top;\n    }\n\n    .dataframe thead th {\n        text-align: right;\n    }\n</style>\n<table border=\"1\" class=\"dataframe\">\n  <thead>\n    <tr style=\"text-align: right;\">\n      <th></th>\n      <th>note</th>\n      <th>duration_type</th>\n      <th>length</th>\n    </tr>\n  </thead>\n  <tbody>\n  </tbody>\n</table>\n</div>"
     },
     "execution_count": 244,
     "metadata": {},
     "output_type": "execute_result"
    }
   ],
   "source": [
    "random_song, random_song_id = get_random_song(second_preprocess_data)\n",
    "data_frame = pd.DataFrame(random_song)\n",
    "# show 32nd notes\n",
    "flats = data_frame[data_frame[\"duration_type\"] == \"32nd\"]\n",
    "print(\"Randomly selected song id:\", random_song_id)\n",
    "flats.head(10)"
   ],
   "metadata": {
    "collapsed": false,
    "pycharm": {
     "name": "#%%\n"
    }
   }
  },
  {
   "cell_type": "code",
   "execution_count": 245,
   "outputs": [],
   "source": [
    "def octave_frequency_by_song(song):\n",
    "    octave_freq = {}\n",
    "    for song_note in song:\n",
    "        octave = song_note[\"note\"][-1]\n",
    "        if octave not in octave_freq:\n",
    "            octave_freq[octave] = 0\n",
    "        octave_freq[octave] += 1\n",
    "    return octave_freq\n",
    "\n",
    "\n",
    "def octave_frequency_by_songs(songs):\n",
    "    octave_freq_list = []\n",
    "    for song in songs:\n",
    "        octave_freq_by_song = octave_frequency_by_song(song)\n",
    "        octave_freq_list.append(octave_freq_by_song)\n",
    "    return octave_freq_list\n",
    "\n",
    "\n",
    "def get_octave_frequency(songs):\n",
    "    octave_freq = {}\n",
    "    for song in songs:\n",
    "        for song_note in song:\n",
    "            octave = song_note[\"note\"][-1]\n",
    "            if octave not in octave_freq:\n",
    "                octave_freq[octave] = 0\n",
    "            octave_freq[octave] += 1\n",
    "    return octave_freq"
   ],
   "metadata": {
    "collapsed": false,
    "pycharm": {
     "name": "#%%\n"
    }
   }
  },
  {
   "cell_type": "code",
   "execution_count": 247,
   "outputs": [
    {
     "name": "stdout",
     "output_type": "stream",
     "text": [
      "Randomly selected song id: 15\n"
     ]
    },
    {
     "data": {
      "text/plain": "   note duration_type  length\n13   C6          16th    0.25\n15   C6        eighth    0.50\n17   C6        eighth    0.50\n29   C6          16th    0.25\n59   C6          16th    0.25\n60   C6          16th    0.25\n61   C6          16th    0.25\n62   C6          16th    0.25\n63   C6        eighth    0.50\n76   C6          16th    0.25",
      "text/html": "<div>\n<style scoped>\n    .dataframe tbody tr th:only-of-type {\n        vertical-align: middle;\n    }\n\n    .dataframe tbody tr th {\n        vertical-align: top;\n    }\n\n    .dataframe thead th {\n        text-align: right;\n    }\n</style>\n<table border=\"1\" class=\"dataframe\">\n  <thead>\n    <tr style=\"text-align: right;\">\n      <th></th>\n      <th>note</th>\n      <th>duration_type</th>\n      <th>length</th>\n    </tr>\n  </thead>\n  <tbody>\n    <tr>\n      <th>13</th>\n      <td>C6</td>\n      <td>16th</td>\n      <td>0.25</td>\n    </tr>\n    <tr>\n      <th>15</th>\n      <td>C6</td>\n      <td>eighth</td>\n      <td>0.50</td>\n    </tr>\n    <tr>\n      <th>17</th>\n      <td>C6</td>\n      <td>eighth</td>\n      <td>0.50</td>\n    </tr>\n    <tr>\n      <th>29</th>\n      <td>C6</td>\n      <td>16th</td>\n      <td>0.25</td>\n    </tr>\n    <tr>\n      <th>59</th>\n      <td>C6</td>\n      <td>16th</td>\n      <td>0.25</td>\n    </tr>\n    <tr>\n      <th>60</th>\n      <td>C6</td>\n      <td>16th</td>\n      <td>0.25</td>\n    </tr>\n    <tr>\n      <th>61</th>\n      <td>C6</td>\n      <td>16th</td>\n      <td>0.25</td>\n    </tr>\n    <tr>\n      <th>62</th>\n      <td>C6</td>\n      <td>16th</td>\n      <td>0.25</td>\n    </tr>\n    <tr>\n      <th>63</th>\n      <td>C6</td>\n      <td>eighth</td>\n      <td>0.50</td>\n    </tr>\n    <tr>\n      <th>76</th>\n      <td>C6</td>\n      <td>16th</td>\n      <td>0.25</td>\n    </tr>\n  </tbody>\n</table>\n</div>"
     },
     "execution_count": 247,
     "metadata": {},
     "output_type": "execute_result"
    }
   ],
   "source": [
    "random_song, random_song_id = get_random_song(second_preprocess_data)\n",
    "data_frame = pd.DataFrame(random_song)\n",
    "# show notes on outlier octaves\n",
    "flats = data_frame[(~data_frame[\"note\"].str.contains(\"4\")) & (~data_frame[\"note\"].str.contains(\"5\"))]\n",
    "print(\"Randomly selected song id:\", random_song_id)\n",
    "flats.head(10)"
   ],
   "metadata": {
    "collapsed": false,
    "pycharm": {
     "name": "#%%\n"
    }
   }
  },
  {
   "cell_type": "code",
   "execution_count": 248,
   "outputs": [
    {
     "data": {
      "text/plain": "{'4': 2582, '5': 3585, '6': 1007, '3': 41}"
     },
     "execution_count": 248,
     "metadata": {},
     "output_type": "execute_result"
    }
   ],
   "source": [
    "#all song\n",
    "octave_frequency = get_octave_frequency(second_preprocess_data)\n",
    "octave_frequency"
   ],
   "metadata": {
    "collapsed": false,
    "pycharm": {
     "name": "#%%\n"
    }
   }
  },
  {
   "cell_type": "code",
   "execution_count": 250,
   "outputs": [
    {
     "data": {
      "text/plain": "[{'4': 223, '5': 151},\n {'5': 369, '6': 108, '4': 3},\n {'4': 302, '5': 163},\n {'4': 307, '5': 173, '6': 1},\n {'5': 153, '6': 231},\n {'5': 256, '6': 148},\n {'4': 431, '3': 32, '5': 22},\n {'5': 272, '6': 199},\n {'5': 174, '4': 207},\n {'5': 237, '4': 180},\n {'5': 328, '4': 154, '6': 15},\n {'4': 228, '5': 261},\n {'5': 370, '4': 72, '6': 12},\n {'4': 308, '3': 9, '5': 179, '6': 2},\n {'4': 164, '5': 267},\n {'5': 210, '6': 291, '4': 3}]"
     },
     "execution_count": 250,
     "metadata": {},
     "output_type": "execute_result"
    }
   ],
   "source": [
    "#individual songs\n",
    "octave_frequency_list = octave_frequency_by_songs(second_preprocess_data)\n",
    "octave_frequency_list"
   ],
   "metadata": {
    "collapsed": false,
    "pycharm": {
     "name": "#%%\n"
    }
   }
  },
  {
   "cell_type": "code",
   "execution_count": 309,
   "outputs": [
    {
     "name": "stdout",
     "output_type": "stream",
     "text": [
      "[('4', 223), ('5', 151)]\n",
      "{'4': 223, '5': 151}\n",
      "[('5', 369), ('6', 108), ('4', 3)]\n",
      "{'4': 372, '5': 108}\n",
      "[('4', 302), ('5', 163)]\n",
      "{'4': 302, '5': 163}\n",
      "[('4', 307), ('5', 173), ('6', 1)]\n",
      "{'4': 307, '5': 174}\n",
      "[('6', 231), ('5', 153)]\n",
      "{'4': 153, '5': 231}\n",
      "[('5', 256), ('6', 148)]\n",
      "{'4': 256, '5': 148}\n",
      "[('4', 431), ('3', 32), ('5', 22)]\n",
      "{'5': 453, '4': 32}\n",
      "[('5', 272), ('6', 199)]\n",
      "{'4': 272, '5': 199}\n",
      "[('4', 207), ('5', 174)]\n",
      "{'5': 174, '4': 207}\n",
      "[('5', 237), ('4', 180)]\n",
      "{'5': 237, '4': 180}\n",
      "[('5', 328), ('4', 154), ('6', 15)]\n",
      "{'5': 343, '4': 154}\n",
      "[('5', 261), ('4', 228)]\n",
      "{'4': 228, '5': 261}\n",
      "[('5', 370), ('4', 72), ('6', 12)]\n",
      "{'5': 382, '4': 72}\n",
      "[('4', 308), ('5', 179), ('3', 9), ('6', 2)]\n",
      "{'4': 317, '5': 181}\n",
      "[('5', 267), ('4', 164)]\n",
      "{'4': 164, '5': 267}\n",
      "[('6', 291), ('5', 210), ('4', 3)]\n",
      "{'4': 213, '5': 291}\n"
     ]
    }
   ],
   "source": [
    "def rescale_octave(song, lower_octave_details, higher_octave_details):\n",
    "    lower_octave = lower_octave_details[0]\n",
    "    higher_octave = higher_octave_details[0]\n",
    "    for midi_note in song:\n",
    "        octave = midi_note[\"note\"][-1]\n",
    "        if octave == lower_octave:\n",
    "            midi_note[\"note\"] = midi_note[\"note\"][:-1] + \"4\"\n",
    "        elif octave == higher_octave:\n",
    "            midi_note[\"note\"] = midi_note[\"note\"][:-1] + \"5\"\n",
    "    note_freq_per_note = octave_frequency_by_song(song)\n",
    "    print(note_freq_per_note)\n",
    "\n",
    "\n",
    "def to_dual_octaves(song, octave_sorted):\n",
    "    lower_octave_details, higher_octave_details = sorted(octave_sorted[:2], key=lambda x: x[0])\n",
    "    for song_note in song:\n",
    "        octave = song_note[\"note\"][-1]\n",
    "        if octave < lower_octave_details[0]:\n",
    "            song_note[\"note\"] = song_note[\"note\"][:-1] + lower_octave_details[0]\n",
    "        elif octave > higher_octave_details[0]:\n",
    "            song_note[\"note\"] = song_note[\"note\"][:-1] + higher_octave_details[0]\n",
    "\n",
    "    octave_freq = octave_frequency_by_song(song)\n",
    "\n",
    "    if len(octave_freq) >= 2 or \"4\" not in octave_freq or \"5\" not in octave_freq:\n",
    "        rescale_octave(song, lower_octave_details, higher_octave_details)\n",
    "\n",
    "\n",
    "def octave_preprocessing(song):\n",
    "    octave_freq = octave_frequency_by_song(song)\n",
    "    # only preprocess songs that has\n",
    "    if len(octave_freq) >= 2 or \"4\" not in octave_freq or \"5\" not in octave_freq:\n",
    "        octave_sorted = []\n",
    "        for song_key, song_key_frequency in octave_freq.items():\n",
    "            octave_sorted.append((song_key, song_key_frequency))\n",
    "        octave_sorted.sort(key=lambda x: -x[1])\n",
    "        print(octave_sorted)\n",
    "        to_dual_octaves(song, octave_sorted)\n",
    "\n",
    "\n",
    "def third_preprocessing(songs):\n",
    "    for song in songs:\n",
    "        octave_preprocessing(song)\n",
    "    return songs\n",
    "\n",
    "\n",
    "third_preprocessed_data = third_preprocessing(copy.deepcopy(second_preprocess_data))"
   ],
   "metadata": {
    "collapsed": false,
    "pycharm": {
     "name": "#%%\n"
    }
   }
  },
  {
   "cell_type": "code",
   "execution_count": 310,
   "outputs": [
    {
     "name": "stdout",
     "output_type": "stream",
     "text": [
      "Randomly selected song id: 11\n"
     ]
    },
    {
     "data": {
      "text/plain": "Empty DataFrame\nColumns: [note, duration_type, length]\nIndex: []",
      "text/html": "<div>\n<style scoped>\n    .dataframe tbody tr th:only-of-type {\n        vertical-align: middle;\n    }\n\n    .dataframe tbody tr th {\n        vertical-align: top;\n    }\n\n    .dataframe thead th {\n        text-align: right;\n    }\n</style>\n<table border=\"1\" class=\"dataframe\">\n  <thead>\n    <tr style=\"text-align: right;\">\n      <th></th>\n      <th>note</th>\n      <th>duration_type</th>\n      <th>length</th>\n    </tr>\n  </thead>\n  <tbody>\n  </tbody>\n</table>\n</div>"
     },
     "execution_count": 310,
     "metadata": {},
     "output_type": "execute_result"
    }
   ],
   "source": [
    "random_song, random_song_id = get_random_song(third_preprocessed_data)\n",
    "data_frame = pd.DataFrame(random_song)\n",
    "# show outlier octaves notes\n",
    "flats = data_frame[(~data_frame[\"note\"].str.contains(\"4\")) & (~data_frame[\"note\"].str.contains(\"5\"))]\n",
    "print(\"Randomly selected song id:\", random_song_id)\n",
    "flats.head(10)"
   ],
   "metadata": {
    "collapsed": false,
    "pycharm": {
     "name": "#%%\n"
    }
   }
  },
  {
   "cell_type": "code",
   "execution_count": 311,
   "outputs": [
    {
     "data": {
      "text/plain": "{'4': 3452, '5': 3763}"
     },
     "execution_count": 311,
     "metadata": {},
     "output_type": "execute_result"
    }
   ],
   "source": [
    "# all songs\n",
    "octave_frequency = get_octave_frequency(third_preprocessed_data)\n",
    "octave_frequency"
   ],
   "metadata": {
    "collapsed": false,
    "pycharm": {
     "name": "#%%\n"
    }
   }
  },
  {
   "cell_type": "code",
   "execution_count": 312,
   "outputs": [
    {
     "data": {
      "text/plain": "'\\nTO TRAINABLE DATA\\n'"
     },
     "execution_count": 312,
     "metadata": {},
     "output_type": "execute_result"
    }
   ],
   "source": [
    "\"\"\"\n",
    "TO TRAINABLE DATA\n",
    "\"\"\""
   ],
   "metadata": {
    "collapsed": false,
    "pycharm": {
     "name": "#%%\n"
    }
   }
  },
  {
   "cell_type": "code",
   "execution_count": 313,
   "outputs": [],
   "source": [
    "\n",
    "notes_map = bidict({\n",
    "    'C': 0,\n",
    "    'C#': 5,\n",
    "    'D': 10,\n",
    "    'D#': 15,\n",
    "    'E': 20,\n",
    "    'F': 25,\n",
    "    'F#': 30,\n",
    "    'G': 35,\n",
    "    'G#': 40,\n",
    "    'A': 45,\n",
    "    'A#': 50,\n",
    "    'B': 55,\n",
    "})\n",
    "train_duration_map = bidict({\n",
    "    'whole': 0,\n",
    "    'half': 1,\n",
    "    'quarter': 2,\n",
    "    'eighth': 3,\n",
    "    '16th': 4,\n",
    "})\n",
    "\n",
    "def map_note_to_int(song_note):\n",
    "    pitch = song_note[\"note\"][:-1]\n",
    "    octave = int(song_note[\"note\"][-1])\n",
    "\n",
    "    return notes_map[pitch] + train_duration_map[song_note[\"duration_type\"]] + ((octave - 4) * 60)"
   ],
   "metadata": {
    "collapsed": false,
    "pycharm": {
     "name": "#%%\n"
    }
   }
  },
  {
   "cell_type": "code",
   "execution_count": 314,
   "outputs": [],
   "source": [
    "def song_map_to_int(song):\n",
    "    song_notes_to_int = []\n",
    "    for song_note in song:\n",
    "        song_notes_to_int.append(map_note_to_int(song_note))\n",
    "    return song_notes_to_int\n",
    "\n",
    "\n",
    "def songs_map_to_int(songs):\n",
    "    songs_in_int = []\n",
    "    for song in songs:\n",
    "        songs_in_int.append(song_map_to_int(song))\n",
    "    return songs_in_int"
   ],
   "metadata": {
    "collapsed": false,
    "pycharm": {
     "name": "#%%\n"
    }
   }
  },
  {
   "cell_type": "code",
   "execution_count": 320,
   "outputs": [],
   "source": [
    "sequence_length = 50\n",
    "def shift_append(song_in_int, seq_len):\n",
    "    _X = []\n",
    "    _Y = []\n",
    "    limit = len(song_in_int) - seq_len\n",
    "    for index in range(limit):\n",
    "        _X.append(song_in_int[index:index + seq_len])\n",
    "        _Y.append(song_in_int[index + seq_len])\n",
    "\n",
    "    return _X, _Y\n",
    "\n",
    "\n",
    "def shift_append_songs(songs_in_int, seq_len):\n",
    "    X = []\n",
    "    Y = []\n",
    "    for song_in_int in songs_in_int:\n",
    "        x, y = shift_append(song_in_int, seq_len)\n",
    "        X += x\n",
    "        Y += y\n",
    "    return np.array(X), np.array(Y)"
   ],
   "metadata": {
    "collapsed": false,
    "pycharm": {
     "name": "#%%\n"
    }
   }
  },
  {
   "cell_type": "code",
   "execution_count": 321,
   "outputs": [
    {
     "data": {
      "text/plain": "16"
     },
     "execution_count": 321,
     "metadata": {},
     "output_type": "execute_result"
    }
   ],
   "source": [
    "songs_map_int = songs_map_to_int(third_preprocessed_data)\n",
    "len(songs_map_int)"
   ],
   "metadata": {
    "collapsed": false,
    "pycharm": {
     "name": "#%%\n"
    }
   }
  },
  {
   "cell_type": "code",
   "execution_count": 322,
   "outputs": [],
   "source": [
    "X_train, Y_train = shift_append_songs(songs_map_int, sequence_length)"
   ],
   "metadata": {
    "collapsed": false,
    "pycharm": {
     "name": "#%%\n"
    }
   }
  },
  {
   "cell_type": "code",
   "execution_count": 324,
   "outputs": [
    {
     "data": {
      "text/plain": "(6415, 50)"
     },
     "execution_count": 324,
     "metadata": {},
     "output_type": "execute_result"
    }
   ],
   "source": [
    "X_train.shape"
   ],
   "metadata": {
    "collapsed": false,
    "pycharm": {
     "name": "#%%\n"
    }
   }
  },
  {
   "cell_type": "code",
   "execution_count": 325,
   "outputs": [
    {
     "data": {
      "text/plain": "(6415,)"
     },
     "execution_count": 325,
     "metadata": {},
     "output_type": "execute_result"
    }
   ],
   "source": [
    "Y_train.shape"
   ],
   "metadata": {
    "collapsed": false,
    "pycharm": {
     "name": "#%%\n"
    }
   }
  },
  {
   "cell_type": "code",
   "execution_count": 326,
   "outputs": [],
   "source": [
    "with open(f'data/x_train_sample.npy', 'wb') as f:\n",
    "    np.save(f, X_train)\n",
    "with open(f'data/y_train_sample.npy', 'wb') as f:\n",
    "    np.save(f, Y_train)\n",
    "\n"
   ],
   "metadata": {
    "collapsed": false,
    "pycharm": {
     "name": "#%%\n"
    }
   }
  },
  {
   "cell_type": "code",
   "execution_count": null,
   "outputs": [],
   "source": [],
   "metadata": {
    "collapsed": false,
    "pycharm": {
     "name": "#%%\n"
    }
   }
  }
 ],
 "metadata": {
  "kernelspec": {
   "display_name": "Python 3",
   "language": "python",
   "name": "python3"
  },
  "language_info": {
   "codemirror_mode": {
    "name": "ipython",
    "version": 2
   },
   "file_extension": ".py",
   "mimetype": "text/x-python",
   "name": "python",
   "nbconvert_exporter": "python",
   "pygments_lexer": "ipython2",
   "version": "2.7.6"
  }
 },
 "nbformat": 4,
 "nbformat_minor": 0
}